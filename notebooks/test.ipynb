{
 "cells": [
  {
   "cell_type": "code",
   "execution_count": 1,
   "metadata": {
    "collapsed": true,
    "pycharm": {
     "name": "#%%\n"
    }
   },
   "outputs": [
    {
     "data": {
      "text/plain": "'CDISC is a tool that can be used to assess the quality of care provided to patients with diabetes in primary care settings in the United States, Canada, and the United Kingdom, and it can be used to assess the quality of care provided to patients with other chronic conditions in primary care settings in the United States, Canada, and the United Kingdom, and it can be used to assess the quality of care provided to patients with other chronic conditions in primary care settings in the United States, Canada, and the United Kingdom.'"
     },
     "execution_count": 1,
     "metadata": {},
     "output_type": "execute_result"
    }
   ],
   "source": [
    "import torch\n",
    "from transformers import BioGptTokenizer, BioGptForCausalLM, set_seed\n",
    "\n",
    "tokenizer = BioGptTokenizer.from_pretrained(\"microsoft/biogpt\")\n",
    "model = BioGptForCausalLM.from_pretrained(\"microsoft/biogpt\")\n",
    "\n",
    "sentence = \"CDISC is\"\n",
    "inputs = tokenizer(sentence, return_tensors=\"pt\")\n",
    "\n",
    "\n",
    "set_seed(42)\n",
    "\n",
    "\n",
    "with torch.no_grad():\n",
    "    beam_output = model.generate(**inputs,\n",
    "                                 min_length=100,\n",
    "                                 max_length=1024,\n",
    "                                 num_beams=5,\n",
    "                                 early_stopping=True\n",
    "                                )\n",
    "tokenizer.decode(beam_output[0], skip_special_tokens=True)"
   ]
  }
 ],
 "metadata": {
  "kernelspec": {
   "display_name": "Python 3",
   "language": "python",
   "name": "python3"
  },
  "language_info": {
   "codemirror_mode": {
    "name": "ipython",
    "version": 2
   },
   "file_extension": ".py",
   "mimetype": "text/x-python",
   "name": "python",
   "nbconvert_exporter": "python",
   "pygments_lexer": "ipython2",
   "version": "2.7.6"
  }
 },
 "nbformat": 4,
 "nbformat_minor": 0
}